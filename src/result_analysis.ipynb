{
 "cells": [
  {
   "cell_type": "code",
   "execution_count": 1,
   "metadata": {},
   "outputs": [],
   "source": [
    "import os\n",
    "import re \n",
    "import numpy as np\n",
    "import pandas as pd\n",
    "import matplotlib.pyplot as plt\n",
    "import seaborn as sns\n",
    "import pickle \n",
    "from itertools import combinations\n",
    "from model.utils import make_logInfo, save_csv, PRF1\n",
    "os.chdir('/home/wzy/Documents/porject/gene_dis_predict_by_ML')"
   ]
  },
  {
   "cell_type": "code",
   "execution_count": 4,
   "metadata": {},
   "outputs": [],
   "source": [
    "font1 = {'family' : 'Times New Roman',\n",
    "'weight' : 'normal',\n",
    "'size'   : 15,\n",
    "}\n",
    "figureSize=(8,6)\n",
    "fileType='png'"
   ]
  },
  {
   "cell_type": "markdown",
   "metadata": {},
   "source": [
    "## OpenNE评价绘图"
   ]
  },
  {
   "cell_type": "code",
   "execution_count": 196,
   "metadata": {},
   "outputs": [
    {
     "data": {
      "text/html": [
       "<div>\n",
       "<style scoped>\n",
       "    .dataframe tbody tr th:only-of-type {\n",
       "        vertical-align: middle;\n",
       "    }\n",
       "\n",
       "    .dataframe tbody tr th {\n",
       "        vertical-align: top;\n",
       "    }\n",
       "\n",
       "    .dataframe thead th {\n",
       "        text-align: right;\n",
       "    }\n",
       "</style>\n",
       "<table border=\"1\" class=\"dataframe\">\n",
       "  <thead>\n",
       "    <tr style=\"text-align: right;\">\n",
       "      <th></th>\n",
       "      <th>micro</th>\n",
       "      <th>macro</th>\n",
       "      <th>samples</th>\n",
       "      <th>weighted</th>\n",
       "      <th>method</th>\n",
       "    </tr>\n",
       "  </thead>\n",
       "  <tbody>\n",
       "    <tr>\n",
       "      <th>0</th>\n",
       "      <td>0.882413</td>\n",
       "      <td>0.803117</td>\n",
       "      <td>0.882413</td>\n",
       "      <td>0.875694</td>\n",
       "      <td>DeepWalk</td>\n",
       "    </tr>\n",
       "    <tr>\n",
       "      <th>1</th>\n",
       "      <td>0.929500</td>\n",
       "      <td>0.882085</td>\n",
       "      <td>0.929500</td>\n",
       "      <td>0.927037</td>\n",
       "      <td>LINE</td>\n",
       "    </tr>\n",
       "    <tr>\n",
       "      <th>2</th>\n",
       "      <td>0.892577</td>\n",
       "      <td>0.815396</td>\n",
       "      <td>0.892577</td>\n",
       "      <td>0.886050</td>\n",
       "      <td>Node2vec</td>\n",
       "    </tr>\n",
       "    <tr>\n",
       "      <th>3</th>\n",
       "      <td>0.792873</td>\n",
       "      <td>0.442236</td>\n",
       "      <td>0.792873</td>\n",
       "      <td>0.701274</td>\n",
       "      <td>GraRep</td>\n",
       "    </tr>\n",
       "    <tr>\n",
       "      <th>4</th>\n",
       "      <td>0.915734</td>\n",
       "      <td>0.847945</td>\n",
       "      <td>0.915734</td>\n",
       "      <td>0.908537</td>\n",
       "      <td>HOPE</td>\n",
       "    </tr>\n",
       "    <tr>\n",
       "      <th>5</th>\n",
       "      <td>0.918950</td>\n",
       "      <td>0.852604</td>\n",
       "      <td>0.918950</td>\n",
       "      <td>0.911978</td>\n",
       "      <td>SDNE</td>\n",
       "    </tr>\n",
       "  </tbody>\n",
       "</table>\n",
       "</div>"
      ],
      "text/plain": [
       "      micro     macro   samples  weighted    method\n",
       "0  0.882413  0.803117  0.882413  0.875694  DeepWalk\n",
       "1  0.929500  0.882085  0.929500  0.927037      LINE\n",
       "2  0.892577  0.815396  0.892577  0.886050  Node2vec\n",
       "3  0.792873  0.442236  0.792873  0.701274    GraRep\n",
       "4  0.915734  0.847945  0.915734  0.908537      HOPE\n",
       "5  0.918950  0.852604  0.918950  0.911978      SDNE"
      ]
     },
     "execution_count": 196,
     "metadata": {},
     "output_type": "execute_result"
    }
   ],
   "source": [
    "openneLog = open('result/openneLog_64.txt','r').read()\n",
    "\n",
    "# method = ['DeepWalk', 'LINE', 'Node2vec', 'HOPE', 'SDNE']\n",
    "method = ['DeepWalk', 'LINE', 'Node2vec', 'GraRep','HOPE', 'SDNE']\n",
    "result = re.compile('\\n\\{.*?\\}\\n').findall(openneLog)\n",
    "result = list(map(eval,map(str.strip,result))) # 将字符串转换为字典，并且去除周围的空白字符\n",
    "\n",
    "neDF = pd.DataFrame(result)\n",
    "neDF['method'] = method\n",
    "neDF"
   ]
  },
  {
   "cell_type": "code",
   "execution_count": 305,
   "metadata": {},
   "outputs": [
    {
     "data": {
      "image/png": "[encoded data removed]",
      "text/plain": [
       "<Figure size 576x432 with 1 Axes>"
      ]
     },
     "metadata": {
      "needs_background": "light"
     },
     "output_type": "display_data"
    }
   ],
   "source": [
    "plt.figure(figsize=figureSize)\n",
    "sns.lineplot(data=neDF,x='method',y='micro',label='micro F1')\n",
    "sns.lineplot(data=neDF,x='method',y='macro',label='macro F1')\n",
    "# sns.lineplot(data=neDF,x='method',y='samples',label='samples')\n",
    "# sns.lineplot(data=neDF,x='method',y='weighted',label='weighted')\n",
    "plt.ylabel('Score',font1)\n",
    "plt.xlabel('GEL Models',font1)\n",
    "plt.title('Different GRL models',font1)\n",
    "plt.savefig('result/figures/best_openNE.{}'.format(fileType),dpi=400)"
   ]
  },
  {
   "cell_type": "markdown",
   "metadata": {},
   "source": [
    "根据上图的结果，选择`LINE`, `HOPE`, `SDNE`, 作为备选的Embedding方法，进行排列组合选择最佳的嵌入组合。\n",
    "\n",
    "并且选择`LINE`作为基本嵌入算法，用于比较不同机器学习模型的差异"
   ]
  },
  {
   "cell_type": "markdown",
   "metadata": {},
   "source": [
    "### 最佳模型组合的评价\n",
    "\n",
    "将多个结果结果拼接起来，选择最好的OpenNE和ML模型的组合"
   ]
  },
  {
   "cell_type": "code",
   "execution_count": null,
   "metadata": {},
   "outputs": [],
   "source": [
    "openNEModel = ['LINE', 'SDNE', 'HOPE']\n",
    "openNEComb = list(combinations(openNEModel, 1))+list(combinations(openNEModel, 2))+list(combinations(openNEModel, 3))\n",
    "findResult = pd.DataFrame()\n",
    "for methodCmb in openNEComb:\n",
    "    ms = '_'.join(methodCmb)\n",
    "    df = pd.read_csv('log/07-10/13_result_{}.csv'.format(ms))\n",
    "    df['method'] = ms\n",
    "    findResult = pd.concat([findResult,df],axis=0)"
   ]
  },
  {
   "cell_type": "code",
   "execution_count": null,
   "metadata": {},
   "outputs": [],
   "source": [
    "# 用于填写ablation中的GRL Models 和 ML Models\n",
    "r = findResult.groupby(['model','method']).agg(['mean','std']).reset_index()\n",
    "for s in ['A', 'P(PPV)', 'R(Sen)(TPR)', 'Spec(TNR)', 'F1', 'AUC', 'AUPR']:\n",
    "    r[s] = r.loc[:,s]['mean'].round(3).astype(str) + '±' + r.loc[:,s]['std'].round(3).astype(str)\n",
    "r.to_csv('result/metrics/ablation_study_ML.csv',index=False)"
   ]
  },
  {
   "cell_type": "code",
   "execution_count": null,
   "metadata": {},
   "outputs": [],
   "source": [
    "findResultGB = findResult.groupby(['model','method']).mean().reset_index()\n",
    "findResultGB.to_csv('result/metrics/find_best.csv',index=False)"
   ]
  },
  {
   "cell_type": "code",
   "execution_count": 473,
   "metadata": {},
   "outputs": [
    {
     "data": {
      "image/png": "[encoded data removed]",
      "text/plain": [
       "<Figure size 576x432 with 1 Axes>"
      ]
     },
     "metadata": {
      "needs_background": "light"
     },
     "output_type": "display_data"
    }
   ],
   "source": [
    "mlR=pd.read_csv('log/07-24/23_Find_ML_PRF1_0.csv').groupby('model').mean().reset_index().sort_values('AUC',ascending=False)\n",
    "plt.figure(figsize=figureSize)\n",
    "sns.lineplot(data=mlR,x='model',y='AUC',label='AUC')\n",
    "plt.xlabel('ML Models',font1) \n",
    "plt.ylabel('AUC',font1)\n",
    "plt.title('Different ML Models',font1)\n",
    "plt.savefig('result/figures/best_ML_models_of_5.{}'.format(fileType),dpi=400)"
   ]
  },
  {
   "cell_type": "code",
   "execution_count": 308,
   "metadata": {},
   "outputs": [
    {
     "data": {
      "image/png": "[encoded data removed]",
      "text/plain": [
       "<Figure size 576x432 with 1 Axes>"
      ]
     },
     "metadata": {
      "needs_background": "light"
     },
     "output_type": "display_data"
    }
   ],
   "source": [
    "plt.figure(figsize=figureSize)\n",
    "\n",
    "sns.lineplot(data=findResultGB,x='model',y='AUC',hue='method')\n",
    "\n",
    "plt.xticks(rotation=30)\n",
    "plt.xlabel('ML Models Ensemble Strategy',font1) \n",
    "plt.ylabel('AUC',font1)\n",
    "plt.title('Different ML Models and GRL Models',font1)\n",
    "plt.savefig('result/figures/best_ML_models.{}'.format(fileType),dpi=400)\n"
   ]
  },
  {
   "cell_type": "code",
   "execution_count": 309,
   "metadata": {},
   "outputs": [
    {
     "data": {
      "image/png": "[encoded data removed]",
      "text/plain": [
       "<Figure size 576x432 with 1 Axes>"
      ]
     },
     "metadata": {
      "needs_background": "light"
     },
     "output_type": "display_data"
    }
   ],
   "source": [
    "plt.figure(figsize=figureSize)\n",
    "sns.lineplot(data=findResultGB[findResultGB.model=='LGBM_RF'],x='method',y='AUC',label='AUC')\n",
    "# sns.lineplot(data=findResult[findResult.model=='LGBM_RF'],x='method',y='AUPR',label='AUPR')\n",
    "plt.xticks(rotation=30)\n",
    "plt.xlabel('GRL Models Ensemble Strategy',font1) \n",
    "plt.ylabel('AUC',font1)\n",
    "plt.title('LGBM_RF Ensemble with Different GRL Models',font1)\n",
    "plt.savefig('result/figures/best_GRL_models.{}'.format(fileType),dpi=400)"
   ]
  },
  {
   "cell_type": "code",
   "execution_count": null,
   "metadata": {},
   "outputs": [],
   "source": [
    "# plt.figure(figsize=figureSize)\n",
    "# sns.lineplot(data=findResult,x='method',y='AUC',hue='model')\n",
    "# plt.xticks(rotation=30)\n",
    "# plt.xlabel('GRL Models',font1) \n",
    "# plt.ylabel('AUC',font1)\n",
    "# plt.title('Different ML models and GRL models',font1)\n",
    "# # plt.legend(loc='lower center', bbox_to_anchor=(0.5, -0.1), ncol=4)\n",
    "# plt.savefig('result/figures/best_ML_all_models.pdf',dpi=400)\n",
    "\n",
    "# plt.figure(figsize=figureSize)\n",
    "# sns.lineplot(data=r,x='method',y='AUC',label='AUC')\n",
    "# plt.xlabel('ML Models',font1) \n",
    "# plt.ylabel('AUC',font1)\n",
    "# plt.title('Different ML Models',font1)\n",
    "# plt.savefig('result/figures/best_ML_models_of_5.{}'.format(fileType),dpi=400)"
   ]
  },
  {
   "cell_type": "markdown",
   "metadata": {},
   "source": [
    "## LUPI_RGCN kfold 结果评价"
   ]
  },
  {
   "cell_type": "code",
   "execution_count": 6,
   "metadata": {},
   "outputs": [],
   "source": [
    "prf1List=[]\n",
    "for seed in range(10):\n",
    "    presuffix = 'result_LUPI_RGCN/07-10/{}'.format(seed)\n",
    "    folds = ['{}result_fold{}.pickle'.format(presuffix,i+1) for i in range(5)]\n",
    "\n",
    "    resultDF = pd.DataFrame()\n",
    "    for i,fold in enumerate(folds): # 读取每一个fold的结果，并将结果保存resultDF中\n",
    "        with open(fold,'rb') as f:\n",
    "            r = pickle.load(f)\n",
    "            r['trainLoss'] = list(map(lambda x:float(x.detach()),r['trainLoss']))\n",
    "            \n",
    "            r['fold'] = [i+1]*len(r['trainLoss'])\n",
    "            r['seed'] = [seed]*len(r['trainLoss'])\n",
    "        resultDF = pd.concat([resultDF,pd.DataFrame(r)],axis=0)\n",
    "        \n",
    "    # 合并fold值\n",
    "    YTEST = [];YPROB=[]\n",
    "    for idx,item in (resultDF[resultDF.epochs==700]).iterrows(): # 选择最后一个epoch的结果的测试集和验证集合并，计算每个fold计算macro评价指标\n",
    "        # print(item['ytest'].shape,item['yproba'].shape)\n",
    "        YTEST.extend(list(item['ytest']))\n",
    "        YPROB.extend(list(item['yproba']))\n",
    "    # print('seed {}: '.format(seed),len(YTEST),len(YPROB))\n",
    "    pd.DataFrame([YPROB,YTEST]).T.rename({0:'yprob',1:'ytest'},axis=1).to_csv(\n",
    "        'result/seedResult/LUPI_RGCN_result/LUPI_RGCN_predictions_ratio1_{}.csv'.format(seed),index=False)\n",
    "    prf1 = PRF1(np.array(YTEST),np.array(YPROB))\n",
    "    prf1['seed']=seed\n",
    "    prf1List.append(prf1)\n",
    "\n",
    "calResult = pd.DataFrame(prf1List)\n",
    "calResult = calResult.append(pd.Series(calResult.mean(axis=0),name='Avg'))\n",
    "calResult = calResult.append(pd.Series(calResult.std(axis=0),name='Std'))\n",
    "calResult.at['Overall',:] = np.array(['{:.3f}±{:.3f}'.format(x,y) for x,y in zip(calResult.loc['Avg',:],calResult.loc['Std',:])])\n",
    "calResult.to_csv('result/metrics/LUPI_RGCN_predictions_ratio1.csv')"
   ]
  },
  {
   "cell_type": "markdown",
   "metadata": {},
   "source": [
    "## ML kfold 结果评价"
   ]
  },
  {
   "cell_type": "markdown",
   "metadata": {},
   "source": [
    "### 随机种子评价\n",
    "\n",
    "将10个随机种子的5个fold的验证集拼接起来，计算宏观评价指标。\n",
    "\n",
    "**在运行随机种子的时候，将hour变量设置为args.seed，这样在保存文件的时候会以seed作为前缀进行命名，方便后续对随机种子进行分析**"
   ]
  },
  {
   "cell_type": "code",
   "execution_count": 4,
   "metadata": {},
   "outputs": [],
   "source": [
    "# 在不同比例中计算macro评价指标\n",
    "for ratio in [1,3,5,10,20]:\n",
    "    prf1List=[]\n",
    "    for seed in range(10):\n",
    "        presuffix = 'log/ML/seed{}'.format(seed)\n",
    "        folds = ['{}_fold{}_sam20.csv'.format(presuffix,i+1) for i in range(5)]\n",
    "\n",
    "        resultDF = pd.DataFrame()\n",
    "        for i,fold in enumerate(folds): # 读取每一个fold的结果，并将结果保存resultDF中\n",
    "            r = pd.read_csv(fold)\n",
    "            resultDF = pd.concat([resultDF,pd.DataFrame(r)],axis=0)\n",
    "        \n",
    "        ratioDF = resultDF[resultDF.sam==ratio]\n",
    "        YTEST = ratioDF.ytest.values; YPROB=ratioDF.yprob.values\n",
    "        # print('seed {}\\tratio {}: '.format(seed,ratio),len(YTEST),len(YPROB))\n",
    "\n",
    "        pd.DataFrame([YPROB,YTEST]).T.rename({0:'yprob',1:'ytest'},axis=1).to_csv(\n",
    "            'result/seedResult/ML_result/ML_predictions_ratio{}_{}.csv'.format(ratio,seed),index=False)\n",
    "        prf1 = PRF1(np.array(YTEST),np.array(YPROB))\n",
    "        prf1['seed']=seed\n",
    "        prf1['ratio']=ratio\n",
    "        prf1List.append(prf1)\n",
    "    calResult = pd.DataFrame(prf1List)\n",
    "    calResult = calResult.append(pd.Series(calResult.mean(axis=0),name='Avg'))\n",
    "    calResult = calResult.append(pd.Series(calResult.std(axis=0),name='Std'))\n",
    "    calResult.at['Overall',:] = np.array(['{:.3f}±{:.3f}'.format(x,y) for x,y in zip(calResult.loc['Avg',:],calResult.loc['Std',:])])\n",
    "    calResult.to_csv('result/metrics/ML_predictions_ratio{}.csv'.format(ratio))"
   ]
  },
  {
   "cell_type": "markdown",
   "metadata": {},
   "source": [
    "# findNew result\n"
   ]
  },
  {
   "cell_type": "markdown",
   "metadata": {},
   "source": [
    "dis & gene"
   ]
  },
  {
   "cell_type": "code",
   "execution_count": 179,
   "metadata": {},
   "outputs": [],
   "source": [
    "for tp in ['dis','gene']:\n",
    "    prf1List=[]\n",
    "    for seed in range(10):\n",
    "        r=pd.read_csv('log/uk_gd/{}_ML_prediction_findNew_{}.csv'.format(seed,tp))\n",
    "        YTEST = r['YTEST']; YPROB=r['YPROB']\n",
    "        if seed==0:\n",
    "            pd.DataFrame([YPROB,YTEST]).T.rename({0:'yprob',1:'ytest'},axis=1).to_csv(\n",
    "                    'result/uk_gd/ML_predictions_uk{}_{}.csv'.format(tp[0].upper()+tp[1:],seed),index=False)\n",
    "        prf1 = PRF1(np.array(YTEST),np.array(YPROB))\n",
    "        prf1['seed']=seed\n",
    "        prf1List.append(prf1)\n",
    "    calResult = pd.DataFrame(prf1List)\n",
    "    calResult = calResult.append(pd.Series(calResult.mean(axis=0),name='Avg'))\n",
    "    calResult = calResult.append(pd.Series(calResult.std(axis=0),name='Std'))\n",
    "    calResult.at['Overall',:] = np.array(['{:.3f}±{:.3f}'.format(x,y) for x,y in zip(calResult.loc['Avg',:],calResult.loc['Std',:])])\n",
    "    calResult.to_csv('result/metrics/ML_predictions_uk{}.csv'.format(tp[0].upper()+tp[1:]))"
   ]
  },
  {
   "cell_type": "markdown",
   "metadata": {},
   "source": [
    "LUPI_RGCN"
   ]
  },
  {
   "cell_type": "code",
   "execution_count": 180,
   "metadata": {},
   "outputs": [],
   "source": [
    "for tp in ['Dis','Gene']:\n",
    "    prf1List=[]\n",
    "    for seed in range(10):\n",
    "        r=pd.read_csv('result_LUPI_RGCN/uk_gd/LUPI_RGCN_uk{}_{}.csv'.format(tp,seed),index_col=0)\n",
    "        YTEST = r['ytest']; YPROB=r['yprob']\n",
    "        if seed==0:\n",
    "            pd.DataFrame([YPROB,YTEST]).T.rename({0:'yprob',1:'ytest'},axis=1).to_csv(\n",
    "                    'result/uk_gd/LUPI_RGCN_predictions_uk{}_{}.csv'.format(tp,seed),index=False)\n",
    "        prf1 = PRF1(np.array(YTEST),np.array(YPROB))\n",
    "        prf1['seed']=seed\n",
    "        prf1List.append(prf1)\n",
    "    calResult = pd.DataFrame(prf1List)\n",
    "    calResult = calResult.append(pd.Series(calResult.mean(axis=0),name='Avg'))\n",
    "    calResult = calResult.append(pd.Series(calResult.std(axis=0),name='Std'))\n",
    "    calResult.at['Overall',:] = np.array(['{:.3f}±{:.3f}'.format(x,y) for x,y in zip(calResult.loc['Avg',:],calResult.loc['Std',:])])\n",
    "    calResult.to_csv('result/metrics/LUPI_RGCN_predictions_uk{}.csv'.format(tp))"
   ]
  },
  {
   "cell_type": "markdown",
   "metadata": {},
   "source": [
    "# ROC & PR Curve\n",
    "\n",
    "两套配色方案：\n",
    "```python\n",
    "model = {'HAN':{'name':'HAN','color':'tab:orange'},\n",
    "         'HGT':{'name':'HGT','color':'tab:red'},\n",
    "         'PGCN':{'name':'PGCN','color':'tab:green'},\n",
    "         'RGCN':{'name':'RGCN','color':'tab:pink'},\n",
    "         'LUPI_RGCN':{'name':'LUPI_RGCN','color':'tab:brown'},\n",
    "         'ML':{'name':'MGREL','color':'tab:blue'}}\n",
    "```\n",
    "\n",
    "```python\n",
    "model = {'HAN':{'name':'HAN','color':'#FF6B6B'},\n",
    "         'HGT':{'name':'HGT','color':'#EAC100'},\n",
    "         'PGCN':{'name':'PGCN','color':'#36AE7C'},\n",
    "         'RGCN':{'name':'RGCN','color':'#6FB2D2'},\n",
    "        #  'LUPI_RGCN':{'name':'LUPI_RGCN','color':'#533E85'},\n",
    "         'ML':{'name':'MGREL','color':'#187498'}}\n",
    "```\n"
   ]
  },
  {
   "cell_type": "code",
   "execution_count": 468,
   "metadata": {},
   "outputs": [],
   "source": [
    "model = {'HAN':{'name':'HAN','color':'#FF6B6B'},\n",
    "         'HGT':{'name':'HGT','color':'#EAC100'},\n",
    "         'PGCN':{'name':'PGCN','color':'#36AE7C'},\n",
    "         'RGCN':{'name':'RGCN','color':'#6FB2D2'},\n",
    "         'LUPI_RGCN':{'name':'LUPI','color':'#533E85'},\n",
    "         'ML':{'name':'MGREL','color':'#187498'}}"
   ]
  },
  {
   "cell_type": "code",
   "execution_count": 469,
   "metadata": {},
   "outputs": [],
   "source": [
    "def plot_ROC_kmodel_line(ytestList:list,yprobList:list,label:list,suffix:str='',\n",
    "                         titleStr:str='ROC',fileType:str='pdf',figureSize:tuple=(8,6)):\n",
    "    from sklearn.metrics import roc_curve\n",
    "    mean_fpr = np.linspace(0, 1, 100)\n",
    "    plt.figure(figsize=figureSize)\n",
    "    for ytest,yprob,l in zip(ytestList,yprobList,label):\n",
    "        # print(l)\n",
    "        fpr, tpr, _ = roc_curve(ytest, yprob)\n",
    "        tpr = np.interp(mean_fpr, fpr, tpr)\n",
    "        tpr[0] = 0.0\n",
    "        plt.plot(mean_fpr, tpr, lw=1.4, label=l['name_AUC'],color=l['color'])\n",
    "\n",
    "    plt.plot([0, 1], [0, 1], '--', color=(0.6, 0.6, 0.6))#, label='Luck')\n",
    "    plt.xlim([-0.02, 1.02])\n",
    "    plt.ylim([-0.02, 1.02])\n",
    "    plt.xlabel('False Positive Rate',font1)\n",
    "    plt.ylabel('True Positive Rate',font1)\n",
    "    plt.title(titleStr,font1)\n",
    "    plt.legend(loc=\"lower right\")\n",
    "    if suffix!='':\n",
    "        plt.savefig('result/figures/roc_{}.{}'.format(suffix,fileType),dpi=400)\n",
    "        print('file has been saved in: result/figures/roc_{}.{}'.format(suffix,fileType))\n",
    "    plt.close()\n",
    "\n",
    "def plot_AUPR_kmodel_line(ytestList:list,yprobList:list,label:list,suffix:str='',\n",
    "                          titleStr:str='Precision-Recall Curve',fileType:str='pdf',figureSize:tuple=(8,6)):\n",
    "    from sklearn.metrics import precision_recall_curve\n",
    "    plt.figure(figsize=figureSize)\n",
    "    mean_fpr = np.linspace(0, 1, 100)\n",
    "    for ytest,yprob,l in zip(ytestList,yprobList,label):\n",
    "        # print(l)\n",
    "        precision, recall, _ = precision_recall_curve(ytest, yprob)\n",
    "        precision = np.interp(mean_fpr, precision, recall)\n",
    "        precision[0] = 1\n",
    "        plt.plot(mean_fpr, precision, lw=1.4, label=l['name_AUPR'],color=l['color'])\n",
    "    \n",
    "    # font1 = {'family' : 'Times New Roman',\n",
    "    # 'weight' : 'normal',\n",
    "    # 'size'   : 13,\n",
    "    # }\n",
    "    plt.plot([1, 0], [0, 1], '--', color=(0.6, 0.6, 0.6))#, label='Luck')\n",
    "    plt.xlim([-0.02, 1.02])\n",
    "    plt.ylim([-0.02, 1.02])\n",
    "    plt.xlabel('Recall',font1)\n",
    "    plt.ylabel('Precision',font1)\n",
    "    plt.title(titleStr,font1)\n",
    "    plt.legend(loc=\"lower left\")\n",
    "    if suffix!='':\n",
    "        plt.savefig('result/figures/auproc_{}.{}'.format(suffix,fileType),dpi=400)\n",
    "        print('file has been saved in: result/figures/auproc_{}.{}'.format(suffix,fileType))\n",
    "    plt.close()"
   ]
  },
  {
   "cell_type": "markdown",
   "metadata": {},
   "source": [
    "## ratio 分析\n",
    "\n",
    "1. 首先是1：1的模型比较图，LUPI_RGCN只参与1：1分析，以result中的ratio1_0为数据源绘制\n",
    "1. 大表的可视化绘制，bar图以及在bar上加分割线（LUPI_RGCN不参与此分析），以metrics中的数值数据源进行绘图即可\n",
    "\n",
    "ratio:1"
   ]
  },
  {
   "cell_type": "code",
   "execution_count": 470,
   "metadata": {},
   "outputs": [
    {
     "name": "stdout",
     "output_type": "stream",
     "text": [
      "file has been saved in: result/figures/roc_ratio1.png\n",
      "file has been saved in: result/figures/auproc_ratio1.png\n"
     ]
    }
   ],
   "source": [
    "ytestList=[];yprobList=[];label=[]\n",
    "model = {'HAN':{'name':'HAN','color':'#FF6B6B'},\n",
    "         'HGT':{'name':'HGT','color':'#EAC100'},\n",
    "         'PGCN':{'name':'PGCN','color':'#36AE7C'},\n",
    "         'RGCN':{'name':'RGCN','color':'#6FB2D2'},\n",
    "         'LUPI_RGCN':{'name':'LUPI','color':'#533E85'},\n",
    "         'ML':{'name':'MGREL','color':'#187498'}}\n",
    "for k,v in model.items():\n",
    "    # print(k)\n",
    "    r = pd.read_csv('result/seedResult/{}_result/{}_predictions_ratio1_0.csv'.format(k,k))\n",
    "    ytest = r.iloc[:,1]; yprob = r.iloc[:,0]\n",
    "    ytestList.append(ytest.values)\n",
    "    yprobList.append(yprob.values)\n",
    "    prf1=PRF1(ytest,yprob)\n",
    "    v['name_AUC']='{}:{:.3f}'.format(v['name'],prf1['AUC'])\n",
    "    v['name_AUPR']='{}:{:.3f}'.format(v['name'],prf1['AUPR'])\n",
    "    label.append(v)\n",
    "plot_ROC_kmodel_line(ytestList,yprobList,label,titleStr='Receiver Operating Characteristic Curve of Models',suffix='ratio1',fileType=fileType)\n",
    "plt.close()\n",
    "plot_AUPR_kmodel_line(ytestList,yprobList,label,titleStr='Precision-Recall Curve of Models',suffix='ratio1',fileType=fileType)    "
   ]
  },
  {
   "cell_type": "markdown",
   "metadata": {},
   "source": [
    "展示ratio的条形图。因为不需要绘制ROC，所以可以直接利用计算好的metrics。以model为横轴"
   ]
  },
  {
   "cell_type": "code",
   "execution_count": 274,
   "metadata": {},
   "outputs": [
    {
     "name": "stdout",
     "output_type": "stream",
     "text": [
      "file has been saved in: result/figures/ratio_AUC.pdf\n",
      "file has been saved in: result/figures/ratio_AUPR.pdf\n",
      "file has been saved in: result/figures/ratio_F1-Score.pdf\n"
     ]
    },
    {
     "data": {
      "text/plain": [
       "<Figure size 576x432 with 0 Axes>"
      ]
     },
     "metadata": {},
     "output_type": "display_data"
    },
    {
     "data": {
      "text/plain": [
       "<Figure size 576x432 with 0 Axes>"
      ]
     },
     "metadata": {},
     "output_type": "display_data"
    },
    {
     "data": {
      "text/plain": [
       "<Figure size 576x432 with 0 Axes>"
      ]
     },
     "metadata": {},
     "output_type": "display_data"
    }
   ],
   "source": [
    "ytestList=[];yprobList=[];label=[]\n",
    "\n",
    "model2 = {'HAN':{'name':'HAN','color':'#FF6B6B'},\n",
    "         'HGT':{'name':'HGT','color':'#EAC100'},\n",
    "         'PGCN':{'name':'PGCN','color':'#36AE7C'},\n",
    "         'RGCN':{'name':'RGCN','color':'#6FB2D2'},\n",
    "        #  'LUPI_RGCN':{'name':'LUPI','color':'#533E85'},\n",
    "         'ML':{'name':'MGREL','color':'#187498'}}\n",
    "         \n",
    "resultDF = pd.DataFrame()\n",
    "for k,v in model2.items():\n",
    "    # print(k)\n",
    "    for ratio in [3,5,10,20]:\n",
    "        try:\n",
    "            r = pd.read_csv('result/metrics/{}_predictions_ratio{}.csv'.format(k,ratio))\n",
    "            r.rename(columns={'Unnamed: 0':'idx','F1':'F1-Score','A':'Accuracy','R(Sen)(TPR)':'Recall','Spec(TNR)':'Specificity','P(PPV)':'Precision'},inplace=True)\n",
    "        except Exception as e:\n",
    "            print(e)\n",
    "            continue\n",
    "        r['ratio'] = ratio\n",
    "        r['model'] = k\n",
    "        resultDF = pd.concat([resultDF,r],axis=0)\n",
    "\n",
    "# plt.rcParams.update({'figure.autolayout': True})\n",
    "metricsList = ['AUC','AUPR','F1-Score','Accuracy','Recall','Specificity','Precision']\n",
    "metricsList = metricsList[:3]\n",
    "c=['#FF6B6B','#F9D923','#36AE7C','#187498']\n",
    "for metrics in metricsList:\n",
    "    plt.figure(figsize=figureSize)\n",
    "    x=np.arange(len(model2))\n",
    "    x*=2; width = 0.4\n",
    "    fig,ax = plt.subplots()\n",
    "    error_attri={'elinewidth':0.8,'ecolor':'black','capsize':4}\n",
    "    r=resultDF[resultDF.idx.isin(['Avg','Std'])]\n",
    "    for i,ratio in enumerate([3,5,10,20]):\n",
    "        rAvg = r[(r.ratio==ratio) &(r.idx=='Avg')][metrics].astype(float).tolist()\n",
    "        rStd = r[(r.ratio==ratio) &(r.idx=='Std')][metrics].astype(float).tolist()\n",
    "        # print(ratio,rAvg)\n",
    "        ax.bar(x+i*width,rAvg,width,align='center',yerr=rStd,error_kw=error_attri,\n",
    "               label='ratio={}'.format(ratio),color=c[i])#color=pd.DataFrame(model.values()).color.tolist()[i+1])\n",
    "\n",
    "    #设置图像的一些参数\n",
    "    ax.set_ylabel(metrics,font1)\n",
    "    ax.set_xticks(x+3*width/2)\n",
    "    ax.set_xticklabels(pd.DataFrame(model2.values()).name.tolist())\n",
    "    # ax.set_yticks(list(np.linspace(0.,1.,5)))\n",
    "    ax.legend(bbox_to_anchor=(0.5, -0.2),loc='lower center',ncol=4)\n",
    "\n",
    "    ax.set_title('Different Ratio of {}'.format(metrics),font1)\n",
    "    # ax.set_xlabel(metrics,font1)\n",
    "\n",
    "    plt.savefig('result/figures/ratio_{}.{}'.format(metrics,fileType),dpi=400)\n",
    "    print('file has been saved in: result/figures/ratio_{}.{}'.format(metrics,fileType))\n",
    "    plt.close()"
   ]
  },
  {
   "cell_type": "markdown",
   "metadata": {},
   "source": [
    "展示ratio的条形图。因为不需要绘制ROC，所以可以直接利用计算好的metrics\n",
    "以ratio为横轴"
   ]
  },
  {
   "cell_type": "code",
   "execution_count": 286,
   "metadata": {},
   "outputs": [
    {
     "name": "stdout",
     "output_type": "stream",
     "text": [
      "file has been saved in: result/figures/ratio_AUC.png\n",
      "file has been saved in: result/figures/ratio_AUPR.png\n",
      "file has been saved in: result/figures/ratio_F1-Score.png\n"
     ]
    },
    {
     "data": {
      "text/plain": [
       "<Figure size 576x432 with 0 Axes>"
      ]
     },
     "metadata": {},
     "output_type": "display_data"
    },
    {
     "data": {
      "text/plain": [
       "<Figure size 576x432 with 0 Axes>"
      ]
     },
     "metadata": {},
     "output_type": "display_data"
    },
    {
     "data": {
      "text/plain": [
       "<Figure size 576x432 with 0 Axes>"
      ]
     },
     "metadata": {},
     "output_type": "display_data"
    }
   ],
   "source": [
    "ytestList=[];yprobList=[];label=[]\n",
    "model2 = {'HAN':{'name':'HAN','color':'#FF6B6B'},\n",
    "         'HGT':{'name':'HGT','color':'#EAC100'},\n",
    "         'PGCN':{'name':'PGCN','color':'#36AE7C'},\n",
    "         'RGCN':{'name':'RGCN','color':'#6FB2D2'},\n",
    "        #  'LUPI_RGCN':{'name':'LUPI','color':'#533E85'},\n",
    "         'ML':{'name':'MGREL','color':'#187498'}}\n",
    "\n",
    "resultDF = pd.DataFrame()\n",
    "for k,v in model2.items():\n",
    "    # print(k)\n",
    "    for ratio in [3,5,10,20]:\n",
    "        try:\n",
    "            r = pd.read_csv('result/metrics/{}_predictions_ratio{}.csv'.format(k,ratio))\n",
    "            r.rename(columns={'Unnamed: 0':'idx','F1':'F1-Score','A':'Accuracy','R(Sen)(TPR)':'Recall','Spec(TNR)':'Specificity','P(PPV)':'Precision'},inplace=True)\n",
    "        except Exception as e:\n",
    "            print(e)\n",
    "            continue\n",
    "        r['ratio'] = ratio\n",
    "        r['model'] = k\n",
    "        resultDF = pd.concat([resultDF,r],axis=0)\n",
    "\n",
    "# plt.rcParams.update({'figure.autolayout': True})\n",
    "metricsList = ['AUC','AUPR','F1-Score','Accuracy','Recall','Specificity','Precision']\n",
    "metricsList = metricsList[:3]\n",
    "c=['#ABC9FF','#FFDEDE','#FF8B8B','#EB4747']\n",
    "for metrics in metricsList:\n",
    "    plt.figure(figsize=figureSize)\n",
    "    x=np.arange(len(['ratio={}'.format(i) for i in [3,5,10,20]])).astype(float)\n",
    "    x*=2.5; width = 0.4\n",
    "    fig,ax = plt.subplots(figsize = figureSize)\n",
    "    error_attri={'elinewidth':0.8,'ecolor':'#2C272E','capsize':0.8}\n",
    "    r=resultDF[resultDF.idx.isin(['Avg','Std'])]\n",
    "    for i,(k,v) in enumerate(model2.items()):\n",
    "        m=k\n",
    "        # print(m,type(m))\n",
    "        rAvg = r[(r.model==m) & (r.idx=='Avg')][metrics].astype(float).tolist()\n",
    "        rStd = r[(r.model==m) & (r.idx=='Std')][metrics].astype(float).tolist()\n",
    "        # print(ratio,rAvg)\n",
    "        ax.bar(x+i*width,rAvg,width,align='center',yerr=rStd,error_kw=error_attri,\n",
    "               label=v['name'],color=v['color'])#color=pd.DataFrame(model.values()).color.tolist()[i+1])\n",
    "\n",
    "    #设置图像的一些参数\n",
    "    ax.set_ylabel(metrics,font1)\n",
    "    ax.set_xticks(x+3*width/2)\n",
    "    ax.set_xticklabels(['ratio={}'.format(i) for i in [3,5,10,20]])\n",
    "    # ax.set_yticks(list(np.linspace(0.,1.,5)))\n",
    "    ax.legend(bbox_to_anchor=(0.5, -0.2),loc='lower center',ncol=5)\n",
    "\n",
    "    ax.set_title('Different Ratio of {}'.format(metrics),font1)\n",
    "\n",
    "    plt.savefig('result/figures/ratio_{}.{}'.format(metrics,fileType),dpi=400)\n",
    "    print('file has been saved in: result/figures/ratio_{}.{}'.format(metrics,fileType))\n",
    "    plt.close()"
   ]
  },
  {
   "cell_type": "markdown",
   "metadata": {},
   "source": [
    "# findNew \n",
    "\n",
    "ROC & AUPROC\n",
    "\n",
    "在运行完LUPI_RGCN之后需要重新绘制"
   ]
  },
  {
   "cell_type": "code",
   "execution_count": 471,
   "metadata": {},
   "outputs": [
    {
     "name": "stdout",
     "output_type": "stream",
     "text": [
      "file has been saved in: result/figures/roc_ukDisease.png\n",
      "file has been saved in: result/figures/auproc_ukDisease.png\n",
      "file has been saved in: result/figures/roc_ukGene.png\n",
      "file has been saved in: result/figures/auproc_ukGene.png\n"
     ]
    }
   ],
   "source": [
    "tpDict={'Dis':'Disease', 'Gene':'Gene'}\n",
    "for tp,n in tpDict.items():\n",
    "    ytestList=[];yprobList=[];label=[]\n",
    "    model = {'HAN':{'name':'HAN','color':'#FF6B6B'},\n",
    "         'HGT':{'name':'HGT','color':'#EAC100'},\n",
    "         'PGCN':{'name':'PGCN','color':'#36AE7C'},\n",
    "         'RGCN':{'name':'RGCN','color':'#6FB2D2'},\n",
    "         'LUPI_RGCN':{'name':'LUPI','color':'#533E85'},\n",
    "         'ML':{'name':'MGREL','color':'#187498'}}\n",
    "    for k,v in model.items():\n",
    "        r=pd.read_csv('result/uk_gd/{}_predictions_uk{}_0.csv'.format(k,tp))\n",
    "        ytest = r.iloc[:,1]; yprob = r.iloc[:,0]\n",
    "        ytestList.append(ytest.values)\n",
    "        yprobList.append(yprob.values)\n",
    "        prf1=PRF1(ytest,yprob)\n",
    "        # label.append('ML:{}±{}'.format(prf1['AUC'],r['Std'][0]))\n",
    "        v['name_AUC']='{}:{:.3f}'.format(v['name'],prf1['AUC'])\n",
    "        v['name_AUPR']='{}:{:.3f}'.format(v['name'],prf1['AUPR'])\n",
    "        label.append(v)\n",
    "    plot_ROC_kmodel_line(ytestList,yprobList,label,titleStr='ROC of Unknown {} Prediction'.format(n),suffix='uk{}'.format(n),fileType=fileType)\n",
    "    plt.close()\n",
    "    plot_AUPR_kmodel_line(ytestList,yprobList,label,titleStr='Precision-Recall Curve of Unknown {} Prediction'.format(n),suffix='uk{}'.format(n),fileType=fileType)"
   ]
  },
  {
   "cell_type": "markdown",
   "metadata": {},
   "source": [
    "# 消融实验分析"
   ]
  },
  {
   "cell_type": "code",
   "execution_count": 472,
   "metadata": {},
   "outputs": [
    {
     "data": {
      "image/png": "[encoded data removed]",
      "text/plain": [
       "<Figure size 576x432 with 1 Axes>"
      ]
     },
     "metadata": {
      "needs_background": "light"
     },
     "output_type": "display_data"
    }
   ],
   "source": [
    "ablationDict={'ae':'AutoEncoder Features','openne':'MGRL Features'}\n",
    "resultDF = pd.DataFrame()\n",
    "for ablation,v in ablationDict.items():\n",
    "    r = pd.read_csv('log/07-25/00_ablation_{}_0.csv'.format(ablation))\n",
    "    r['method']=ablation\n",
    "    calResult = r[r.method==ablation]\n",
    "    calResult = calResult.append(pd.Series(calResult.mean(axis=0),name='Avg'))\n",
    "    calResult = calResult.append(pd.Series(calResult.std(axis=0),name='Std'))\n",
    "    calResult.at['Overall',:] = np.array(['{:.3f}±{:.3f}'.format(x,y) for x,y in zip(calResult.loc['Avg',:],calResult.loc['Std',:])])\n",
    "    calResult.to_csv('result/metrics/ablation_{}.csv'.format(ablation))"
   ]
  },
  {
   "cell_type": "code",
   "execution_count": null,
   "metadata": {},
   "outputs": [],
   "source": []
  },
  {
   "cell_type": "markdown",
   "metadata": {},
   "source": [
    "# 敏感性分析"
   ]
  },
  {
   "cell_type": "code",
   "execution_count": 5,
   "metadata": {},
   "outputs": [],
   "source": [
    "def my_lineplot(data,x,y,label,markers,color,):\n",
    "    dataGB = data.groupby(x)\n",
    "    # 根据x的均值聚合，绘制点线\n",
    "    plt.plot(dataGB.mean().index.tolist(),dataGB.mean()[y],label=label,marker=markers,color=color)\n",
    "    # 根据y的std绘制阴影线\n",
    "    plt.fill_between(dataGB.mean().index,dataGB.mean()[y]+dataGB.std()[y],dataGB.mean()[y]-dataGB.std()[y],color=color,alpha=0.2)"
   ]
  },
  {
   "cell_type": "code",
   "execution_count": 6,
   "metadata": {},
   "outputs": [
    {
     "name": "stderr",
     "output_type": "stream",
     "text": [
      "findfont: Font family ['Times New Roman'] not found. Falling back to DejaVu Sans.\n"
     ]
    }
   ],
   "source": [
    "rc = pd.DataFrame()\n",
    "for aeDim in [32,64,128,256]:\n",
    "    r = pd.read_csv('log/sen/14_senPRF1_128_[512, {}]_0.csv'.format(aeDim))\n",
    "    r['aeDim']=aeDim\n",
    "    rc = rc.append(r)\n",
    "    calResult = r[r.aeDim==aeDim]\n",
    "    calResult = calResult.append(pd.Series(calResult.mean(axis=0),name='Avg'))\n",
    "    calResult = calResult.append(pd.Series(calResult.std(axis=0),name='Std'))\n",
    "    calResult.at['Overall',:] = np.array(['{:.3f}±{:.3f}'.format(x,y) for x,y in zip(calResult.loc['Avg',:],calResult.loc['Std',:])])\n",
    "    calResult.to_csv('result/metrics/sen_op_128_ae_{}.csv'.format(aeDim))\n",
    "\n",
    "plt.figure(figsize=figureSize)\n",
    "my_lineplot(data=rc,x='aeDim',y='AUPR',label='AUPR',markers='o',color='#EC5858')\n",
    "my_lineplot(data=rc,x='aeDim',y='AUC',label='AUC',markers='o',color='#93ABD3')\n",
    "\n",
    "plt.xticks([32,64,128,256])\n",
    "plt.ylabel('Score',font1)\n",
    "plt.xlabel('The Feature Dimension in AutoEncoder',font1)\n",
    "# plt.title('Different Dimention of AutoEncoder',font1)\n",
    "plt.legend()\n",
    "plt.savefig('result/figures/sen_ae.{}'.format(fileType),dpi=400)\n",
    "plt.close()"
   ]
  },
  {
   "cell_type": "code",
   "execution_count": 8,
   "metadata": {},
   "outputs": [],
   "source": [
    "rc = pd.DataFrame()\n",
    "for openneDim in [32,64,128,256]:\n",
    "    r = pd.read_csv('log/sen/13_senPRF1_{}_[512, 64]_0.csv'.format(openneDim))\n",
    "    r['openneDim']=openneDim\n",
    "    rc = rc.append(r)\n",
    "    calResult = r[r.openneDim==openneDim]\n",
    "    calResult = calResult.append(pd.Series(calResult.mean(axis=0),name='Avg'))\n",
    "    calResult = calResult.append(pd.Series(calResult.std(axis=0),name='Std'))\n",
    "    calResult.at['Overall',:] = np.array(['{:.3f}±{:.3f}'.format(x,y) for x,y in zip(calResult.loc['Avg',:],calResult.loc['Std',:])])\n",
    "    calResult.to_csv('result/metrics/sen_op{}_ae_64.csv'.format(openneDim))\n",
    "\n",
    "plt.figure(figsize=figureSize)\n",
    "my_lineplot(data=rc,x='openneDim',y='AUPR',label='AUPR',markers='o',color='#EC5858')\n",
    "my_lineplot(data=rc,x='openneDim',y='AUC',label='AUC',markers='o',color='#93ABD3')\n",
    "plt.xticks([32,64,128,256])\n",
    "plt.ylabel('Score',font1)\n",
    "plt.xlabel('The Feature Dimension in GRL',font1)\n",
    "# plt.title('Different Dimention of MGRL',font1)\n",
    "plt.legend(loc='best')\n",
    "plt.savefig('result/figures/sen_mgrl.{}'.format(fileType),dpi=400)\n",
    "plt.close()"
   ]
  },
  {
   "cell_type": "markdown",
   "metadata": {},
   "source": [
    "# 案例分析\n"
   ]
  },
  {
   "cell_type": "code",
   "execution_count": 351,
   "metadata": {},
   "outputs": [],
   "source": [
    "def find_optimal_cutoff(TPR:np.array, FPR:np.array, threshold:np.array):\n",
    "    '''\n",
    "    description: 获取最佳阈值点,并返回阈值和点的位置, \n",
    "                 一般被各种机器学习模型的kfold()函数调用,\n",
    "                 用于为 wzyFunc.machineLearning.plot_ROC_kfold() 函数创建opts参数\n",
    "    param {np} TPR: <- sklearn.metrics.roc_curve(ytest, yprob)\n",
    "    param {np} FPR: <- sklearn.metrics.roc_curve(ytest, yprob)\n",
    "    param {np} threshold: <- sklearn.metrics.roc_curve(ytest, yprob)\n",
    "    return  optimal_threshold: int\n",
    "            point: 点的坐标, 用于wzyFunc.machineLearning.plot_ROC_kfold()绘制\n",
    "    '''\n",
    "    y = TPR - FPR\n",
    "    Youden_index = np.argmax(y)  # Only the first occurrence is returned.\n",
    "    optimal_threshold = threshold[Youden_index]\n",
    "    point = [FPR[Youden_index], TPR[Youden_index]]\n",
    "    return optimal_threshold, point\n",
    "\n",
    "def PRF1(ytest:np.array, yprob:np.array,threshold:float=None)->dict:\n",
    "    '''\n",
    "    description: 警告: 如果两个模型不能输出prob和decision_function的话, \n",
    "                 模型无法计算AUC分数, 同时计算之后也没有任何意义! \n",
    "    param {np} ytest: 真实标签\n",
    "    param {np} ypre: 模型预测标签\n",
    "    param {np} yprob: 模型输出的每个样本的预测概率\n",
    "    param {int} threshold: 阈值, 默认为0.5\n",
    "    return prf1Dict: {'A','P(PPV)','R(Sen)(TPR)','Spec(TNR)','F1','AUC','AUPR','YI','threshold'}\n",
    "    '''\n",
    "    from sklearn.metrics import accuracy_score, precision_score, recall_score, f1_score, \\\n",
    "        roc_auc_score, average_precision_score, confusion_matrix as CM,roc_curve\n",
    "    cm={}   \n",
    "    if threshold == None:\n",
    "        fpr, tpr, thr = roc_curve(ytest, yprob)\n",
    "        threshold, _ = find_optimal_cutoff(tpr, fpr, threshold=thr)\n",
    "    ypre = (yprob>threshold).astype(int)\n",
    "    cm['AUC'] = roc_auc_score(ytest, yprob)\n",
    "    cm['AUPR'] = average_precision_score(ytest, yprob)\n",
    "    cm['F1']= f1_score(ytest, ypre)\n",
    "    cm['A']= accuracy_score(ytest, ypre)\n",
    "    cm['R(Sen)(TPR)'] = recall_score(ytest, ypre)\n",
    "    cmTemp= CM(ytest,ypre,labels=[1,0]) \n",
    "    cm['Spec(TNR)'] = cmTemp[1,1]/cmTemp[1,:].sum() #TNR\n",
    "    cm['P(PPV)'] = precision_score(ytest, ypre) #PPV\n",
    "    cm['YI'] = cm['R(Sen)(TPR)'] + cm['Spec(TNR)'] -1\n",
    "    cm['threshold'] = threshold\n",
    "    return  cm"
   ]
  },
  {
   "cell_type": "code",
   "execution_count": 336,
   "metadata": {},
   "outputs": [],
   "source": [
    "# r = pd.read_csv('log/07-25/15_caseStudy_result_0.csv') # 采样的计算结果\n",
    "r = pd.read_csv('log/07-26/00_caseStudy_result_0.csv') # 全集的计算结果"
   ]
  },
  {
   "cell_type": "code",
   "execution_count": 338,
   "metadata": {},
   "outputs": [],
   "source": [
    "with open('data/EntrezID.txt','r') as f:\n",
    "    geneID = f.read().splitlines()\n",
    "geneIDDict = {i:j for i,j in enumerate(geneID)}\n",
    "with open('data/diseaseID.txt','r') as f:\n",
    "    diseaseID = f.read().splitlines()\n",
    "diseaseIDDict = {i:j for i,j in enumerate(diseaseID)}"
   ]
  },
  {
   "cell_type": "code",
   "execution_count": 339,
   "metadata": {},
   "outputs": [],
   "source": [
    "caseStudy = r[(r.label==0) & (r.ypred==1)].sort_values(by='yprob',ascending=False)\n",
    "# caseStudy.to_csv('result/metrics/caseStudy.csv')\n",
    "caseStudy['geneID'] = caseStudy.gene.map(geneIDDict)\n",
    "caseStudy['diseaseID'] = (caseStudy.disease-12331).map(diseaseIDDict)"
   ]
  },
  {
   "cell_type": "code",
   "execution_count": 355,
   "metadata": {},
   "outputs": [
    {
     "data": {
      "text/plain": [
       "{'AUC': 0.9833676605331434,\n",
       " 'AUPR': 0.03912485470695172,\n",
       " 'F1': 0.014131003176386587,\n",
       " 'A': 0.921913502277069,\n",
       " 'R(Sen)(TPR)': 0.9858691788126556,\n",
       " 'Spec(TNR)': 0.9218771772339378,\n",
       " 'P(PPV)': 0.007116503963699607,\n",
       " 'YI': 0.9077463560465935,\n",
       " 'threshold': 0.3985818158011036}"
      ]
     },
     "execution_count": 355,
     "metadata": {},
     "output_type": "execute_result"
    }
   ],
   "source": [
    "PRF1(r.ytest.to_numpy(),r.yprob.to_numpy())"
   ]
  },
  {
   "cell_type": "code",
   "execution_count": 341,
   "metadata": {},
   "outputs": [
    {
     "data": {
      "text/html": [
       "<div>\n",
       "<style scoped>\n",
       "    .dataframe tbody tr th:only-of-type {\n",
       "        vertical-align: middle;\n",
       "    }\n",
       "\n",
       "    .dataframe tbody tr th {\n",
       "        vertical-align: top;\n",
       "    }\n",
       "\n",
       "    .dataframe thead th {\n",
       "        text-align: right;\n",
       "    }\n",
       "</style>\n",
       "<table border=\"1\" class=\"dataframe\">\n",
       "  <thead>\n",
       "    <tr style=\"text-align: right;\">\n",
       "      <th></th>\n",
       "      <th>gene</th>\n",
       "      <th>disease</th>\n",
       "      <th>label</th>\n",
       "      <th>ytest</th>\n",
       "      <th>yprob</th>\n",
       "      <th>ypred</th>\n",
       "      <th>geneID</th>\n",
       "      <th>diseaseID</th>\n",
       "    </tr>\n",
       "  </thead>\n",
       "  <tbody>\n",
       "    <tr>\n",
       "      <th>13769048</th>\n",
       "      <td>4280.0</td>\n",
       "      <td>13030.0</td>\n",
       "      <td>0.0</td>\n",
       "      <td>0.0</td>\n",
       "      <td>0.991489</td>\n",
       "      <td>1.0</td>\n",
       "      <td>7097</td>\n",
       "      <td>211980</td>\n",
       "    </tr>\n",
       "    <tr>\n",
       "      <th>3048343</th>\n",
       "      <td>942.0</td>\n",
       "      <td>13030.0</td>\n",
       "      <td>0.0</td>\n",
       "      <td>0.0</td>\n",
       "      <td>0.991404</td>\n",
       "      <td>1.0</td>\n",
       "      <td>1471</td>\n",
       "      <td>211980</td>\n",
       "    </tr>\n",
       "    <tr>\n",
       "      <th>10944839</th>\n",
       "      <td>3401.0</td>\n",
       "      <td>12423.0</td>\n",
       "      <td>0.0</td>\n",
       "      <td>0.0</td>\n",
       "      <td>0.991401</td>\n",
       "      <td>1.0</td>\n",
       "      <td>5728</td>\n",
       "      <td>114500</td>\n",
       "    </tr>\n",
       "    <tr>\n",
       "      <th>5617410</th>\n",
       "      <td>1742.0</td>\n",
       "      <td>13030.0</td>\n",
       "      <td>0.0</td>\n",
       "      <td>0.0</td>\n",
       "      <td>0.991311</td>\n",
       "      <td>1.0</td>\n",
       "      <td>2908</td>\n",
       "      <td>211980</td>\n",
       "    </tr>\n",
       "    <tr>\n",
       "      <th>13768445</th>\n",
       "      <td>4280.0</td>\n",
       "      <td>12424.0</td>\n",
       "      <td>0.0</td>\n",
       "      <td>0.0</td>\n",
       "      <td>0.991208</td>\n",
       "      <td>1.0</td>\n",
       "      <td>7097</td>\n",
       "      <td>114550</td>\n",
       "    </tr>\n",
       "  </tbody>\n",
       "</table>\n",
       "</div>"
      ],
      "text/plain": [
       "            gene  disease  label  ytest     yprob  ypred geneID diseaseID\n",
       "13769048  4280.0  13030.0    0.0    0.0  0.991489    1.0   7097    211980\n",
       "3048343    942.0  13030.0    0.0    0.0  0.991404    1.0   1471    211980\n",
       "10944839  3401.0  12423.0    0.0    0.0  0.991401    1.0   5728    114500\n",
       "5617410   1742.0  13030.0    0.0    0.0  0.991311    1.0   2908    211980\n",
       "13768445  4280.0  12424.0    0.0    0.0  0.991208    1.0   7097    114550"
      ]
     },
     "execution_count": 341,
     "metadata": {},
     "output_type": "execute_result"
    }
   ],
   "source": [
    "print(caseStudy.shape)\n",
    "caseStudy.head()"
   ]
  },
  {
   "cell_type": "markdown",
   "metadata": {},
   "source": [
    "从CTD中下载相应的基本本体和疾病管理，以获取geneID和disID对应的名字，用于pubmed进行检索\n",
    "\n",
    "[CTD](https://ctdbase.com/tools/batchQuery.go;jsessionid=1BECE7A942B8F81F746D6B426C1E32CE)\n",
    "\n",
    "[OMIM DiseaseID](https://omim.org/)\n",
    "\n",
    "[NCBI GeneID](https://www.ncbi.nlm.nih.gov/)\n",
    "\n",
    "[PubMed](https://pubmed.ncbi.nlm.nih.gov/)"
   ]
  },
  {
   "cell_type": "code",
   "execution_count": 367,
   "metadata": {},
   "outputs": [
    {
     "name": "stdout",
     "output_type": "stream",
     "text": [
      "(12100,)\n",
      "(2840,)\n"
     ]
    }
   ],
   "source": [
    "print(caseStudy['geneID'].unique().shape)\n",
    "caseStudy.geneID.drop_duplicates().to_csv('result/metrics/geneID_CTD.csv',index=False)\n",
    "print(caseStudy['diseaseID'].unique().shape)\n",
    "caseStudy.diseaseID.drop_duplicates().to_csv('result/metrics/diseaseID_CTD.csv',index=False)"
   ]
  },
  {
   "cell_type": "code",
   "execution_count": 389,
   "metadata": {},
   "outputs": [
    {
     "name": "stderr",
     "output_type": "stream",
     "text": [
      "/home/wzy/anaconda3/envs/Graph/lib/python3.8/site-packages/IPython/core/interactiveshell.py:3165: DtypeWarning: Columns (0) have mixed types.Specify dtype option on import or set low_memory=False.\n",
      "  has_raised = await self.run_ast_nodes(code_ast.body, cell_name,\n"
     ]
    },
    {
     "name": "stdout",
     "output_type": "stream",
     "text": [
      "(739187, 8)\n",
      "(66233, 8)\n"
     ]
    },
    {
     "name": "stderr",
     "output_type": "stream",
     "text": [
      "/home/wzy/anaconda3/envs/Graph/lib/python3.8/site-packages/IPython/core/interactiveshell.py:3165: DtypeWarning: Columns (0) have mixed types.Specify dtype option on import or set low_memory=False.\n",
      "  has_raised = await self.run_ast_nodes(code_ast.body, cell_name,\n"
     ]
    },
    {
     "name": "stdout",
     "output_type": "stream",
     "text": [
      "(346066, 6)\n",
      "(346005, 6)\n"
     ]
    }
   ],
   "source": [
    "disName = pd.read_csv('data/caseStudy/diseaseName.csv')\n",
    "disName.dropna(inplace=True)\n",
    "\n",
    "geneName = pd.DataFrame() \n",
    "for p in ['data/caseStudy/geneName_{}.csv'.format(i) for i in range(1,5)]:\n",
    "    r1 = pd.read_csv(p)\n",
    "    geneName = pd.concat([geneName,r1],axis=0)\n",
    "geneName.dropna(inplace=True)\n",
    "\n",
    "disDict = dict(zip(disName['# Input'].unique().astype(int).tolist(), disName['DiseaseName'].unique().tolist()))\n",
    "geneDict = dict(zip(geneName['# Input'].unique().astype(int).tolist(), geneName['GeneSymbol'].unique().tolist()))"
   ]
  },
  {
   "cell_type": "code",
   "execution_count": 392,
   "metadata": {},
   "outputs": [],
   "source": [
    "caseStudy['geneName'] = caseStudy.geneID.astype(int).map(geneDict)\n",
    "caseStudy['diseaseName'] = caseStudy.diseaseID.astype(int).map(disDict)\n",
    "caseStudy.to_csv('result/metrics/caseStudy_all.csv')"
   ]
  },
  {
   "cell_type": "code",
   "execution_count": 391,
   "metadata": {},
   "outputs": [
    {
     "data": {
      "text/html": [
       "<div>\n",
       "<style scoped>\n",
       "    .dataframe tbody tr th:only-of-type {\n",
       "        vertical-align: middle;\n",
       "    }\n",
       "\n",
       "    .dataframe tbody tr th {\n",
       "        vertical-align: top;\n",
       "    }\n",
       "\n",
       "    .dataframe thead th {\n",
       "        text-align: right;\n",
       "    }\n",
       "</style>\n",
       "<table border=\"1\" class=\"dataframe\">\n",
       "  <thead>\n",
       "    <tr style=\"text-align: right;\">\n",
       "      <th></th>\n",
       "      <th>gene</th>\n",
       "      <th>disease</th>\n",
       "      <th>label</th>\n",
       "      <th>ytest</th>\n",
       "      <th>yprob</th>\n",
       "      <th>ypred</th>\n",
       "      <th>geneID</th>\n",
       "      <th>diseaseID</th>\n",
       "      <th>geneName</th>\n",
       "      <th>diseaseName</th>\n",
       "    </tr>\n",
       "  </thead>\n",
       "  <tbody>\n",
       "    <tr>\n",
       "      <th>13769048</th>\n",
       "      <td>4280.0</td>\n",
       "      <td>13030.0</td>\n",
       "      <td>0.0</td>\n",
       "      <td>0.0</td>\n",
       "      <td>0.991489</td>\n",
       "      <td>1.0</td>\n",
       "      <td>7097</td>\n",
       "      <td>211980</td>\n",
       "      <td>TLR2</td>\n",
       "      <td>Lung Neoplasms</td>\n",
       "    </tr>\n",
       "    <tr>\n",
       "      <th>3048343</th>\n",
       "      <td>942.0</td>\n",
       "      <td>13030.0</td>\n",
       "      <td>0.0</td>\n",
       "      <td>0.0</td>\n",
       "      <td>0.991404</td>\n",
       "      <td>1.0</td>\n",
       "      <td>1471</td>\n",
       "      <td>211980</td>\n",
       "      <td>CST3</td>\n",
       "      <td>Lung Neoplasms</td>\n",
       "    </tr>\n",
       "    <tr>\n",
       "      <th>10944839</th>\n",
       "      <td>3401.0</td>\n",
       "      <td>12423.0</td>\n",
       "      <td>0.0</td>\n",
       "      <td>0.0</td>\n",
       "      <td>0.991401</td>\n",
       "      <td>1.0</td>\n",
       "      <td>5728</td>\n",
       "      <td>114500</td>\n",
       "      <td>PTEN</td>\n",
       "      <td>Colorectal Neoplasms</td>\n",
       "    </tr>\n",
       "    <tr>\n",
       "      <th>5617410</th>\n",
       "      <td>1742.0</td>\n",
       "      <td>13030.0</td>\n",
       "      <td>0.0</td>\n",
       "      <td>0.0</td>\n",
       "      <td>0.991311</td>\n",
       "      <td>1.0</td>\n",
       "      <td>2908</td>\n",
       "      <td>211980</td>\n",
       "      <td>NR3C1</td>\n",
       "      <td>Lung Neoplasms</td>\n",
       "    </tr>\n",
       "    <tr>\n",
       "      <th>13768445</th>\n",
       "      <td>4280.0</td>\n",
       "      <td>12424.0</td>\n",
       "      <td>0.0</td>\n",
       "      <td>0.0</td>\n",
       "      <td>0.991208</td>\n",
       "      <td>1.0</td>\n",
       "      <td>7097</td>\n",
       "      <td>114550</td>\n",
       "      <td>TLR2</td>\n",
       "      <td>Carcinoma, Hepatocellular</td>\n",
       "    </tr>\n",
       "  </tbody>\n",
       "</table>\n",
       "</div>"
      ],
      "text/plain": [
       "            gene  disease  label  ytest     yprob  ypred geneID diseaseID  \\\n",
       "13769048  4280.0  13030.0    0.0    0.0  0.991489    1.0   7097    211980   \n",
       "3048343    942.0  13030.0    0.0    0.0  0.991404    1.0   1471    211980   \n",
       "10944839  3401.0  12423.0    0.0    0.0  0.991401    1.0   5728    114500   \n",
       "5617410   1742.0  13030.0    0.0    0.0  0.991311    1.0   2908    211980   \n",
       "13768445  4280.0  12424.0    0.0    0.0  0.991208    1.0   7097    114550   \n",
       "\n",
       "         geneName                diseaseName  \n",
       "13769048     TLR2             Lung Neoplasms  \n",
       "3048343      CST3             Lung Neoplasms  \n",
       "10944839     PTEN       Colorectal Neoplasms  \n",
       "5617410     NR3C1             Lung Neoplasms  \n",
       "13768445     TLR2  Carcinoma, Hepatocellular  "
      ]
     },
     "execution_count": 391,
     "metadata": {},
     "output_type": "execute_result"
    }
   ],
   "source": [
    "caseStudy.head()"
   ]
  },
  {
   "cell_type": "code",
   "execution_count": 375,
   "metadata": {},
   "outputs": [
    {
     "data": {
      "text/plain": [
       "39644165"
      ]
     },
     "execution_count": 375,
     "metadata": {},
     "output_type": "execute_result"
    }
   ],
   "source": [
    "count=0\n",
    "for idx,item in r.iterrows():\n",
    "    if item.label == item.ytest:\n",
    "        count += 1\n",
    "count"
   ]
  },
  {
   "cell_type": "code",
   "execution_count": 376,
   "metadata": {},
   "outputs": [
    {
     "data": {
      "text/plain": [
       "(39644165, 6)"
      ]
     },
     "execution_count": 376,
     "metadata": {},
     "output_type": "execute_result"
    }
   ],
   "source": [
    "r.shape"
   ]
  },
  {
   "cell_type": "markdown",
   "metadata": {},
   "source": [
    "# 显著性分析\n",
    "\n",
    "用于比较不同模型之间的显著性差异"
   ]
  },
  {
   "cell_type": "code",
   "execution_count": 528,
   "metadata": {},
   "outputs": [],
   "source": [
    "def cal_ttest_result(dataSet:pd.DataFrame, tcol:list, trow:list, CLS=False, general=False):\n",
    "    '''\n",
    "    v2\n",
    "    description: 返回一系列的t检验结果表, 输入为【1, 0数据集】,\n",
    "                 此方法默认采用方差不齐的t检验, 并且只用于做【两独立样本t检验】\n",
    "    param {pd} dataSet: \n",
    "    param {list} tcol: 表示要检验的结果, 最后结果显示为标题列\n",
    "    param {list} trow: 表示要检验的特征, 最后结果显示为行\n",
    "    param {None|str} CLS: None-> 默认, 为tr列中的所有unique标签作为分组, 进行两两t检验\n",
    "                          str -> 只以tr中的str分类, 与其他标签做t检验,用于标签中有多种分类结果的计算\n",
    "    param {Bool} general: [True] -> 返回的结果表中不展示每组的mean(std), 只展示特征和p值\n",
    "                          [False]-> 返回每组的mean(std), 并且附带最后的p值\n",
    "    return TtestDF: 检验结果\n",
    "    '''\n",
    "    from scipy import stats\n",
    "    from itertools import combinations\n",
    "    TtestDF = pd.DataFrame()\n",
    "    calParticialTrLabel=False # 默认计算目标列全部unique值两两t检验结果\n",
    "    if bool(CLS): #TODO:改成向量，形式，与tcol长度相同能够实现对不同列进行不同的设置\n",
    "        calParticialTrLabel=True # 如果传入了CLS参数, 那么就计算目标列中 CLS与其他label的结果，否则计算目标列中所有unique值的两两t检验\n",
    "    for i, r in enumerate(tcol):\n",
    "        # 计算全人群\n",
    "        l = []\n",
    "        for j, tda in enumerate(trow):\n",
    "            tableDict = {}\n",
    "            genDict = {}\n",
    "            if i == 0:\n",
    "                tableDict['feature'] = tda\n",
    "                genDict['feature'] = tda\n",
    "                tableDict['mean(std)'] = str(\n",
    "                    np.round(dataSet[tda].mean(), 2)) + '(%.2f)' % np.round(dataSet[tda].std(), 2)\n",
    "#             print(CLS)\n",
    "            if calParticialTrLabel:\n",
    "                otherLabel = list(dataSet[r].unique())\n",
    "                otherLabel.remove(CLS)\n",
    "                # 遍历r列中的每一个label，计算不同分组下的均值和方差\n",
    "                for cls in dataSet[r].unique():\n",
    "                    sub0 = dataSet[dataSet[r] == cls]\n",
    "                    tableDict['(%s)mean(std)' % cls] = str(\n",
    "                        np.round(sub0[tda].mean(), 2))+'(%.2f)' % np.round(sub0[tda].std(), 2)\n",
    "                # 便利otherLabel, 计算label与CLS的t检验结果\n",
    "                for cls in otherLabel:\n",
    "                    sub0 = dataSet[dataSet[r] == CLS]\n",
    "                    sub1 = dataSet[dataSet[r] == cls]\n",
    "                    pvalue = stats.ttest_ind(\n",
    "                        sub0[tda], sub1[tda], equal_var=False)[1]\n",
    "                    beautyP = pvalue if pvalue < 0.001 else round(pvalue, 4)\n",
    "                    # beautyP = '<0.001' if pvalue < 0.001 else round(pvalue, 4)\n",
    "                    tableDict[r+'-%s-%s-p' % (CLS, cls)] = beautyP\n",
    "                    genDict[r+'-%s-%s-p' %(CLS, cls)] = tableDict[r+'-%s-%s-p' % (CLS, cls)]\n",
    "                if general:\n",
    "                    l.append(genDict)\n",
    "                else:\n",
    "                    l.append(tableDict)\n",
    "            else: # 代表默认对r列内所有label做两两ttest\n",
    "                CLS = dataSet[r].unique()\n",
    "                for cls in CLS:\n",
    "                    sub0 = dataSet[dataSet[r] == cls]\n",
    "                    tableDict['(%s)mean(std)' % cls] = str(\n",
    "                        np.round(sub0[tda].mean(), 2))+'(%.2f)' % np.round(sub0[tda].std(), 2)\n",
    "                # 遍历排列组合结果, 计算label与CLS的t检验结果\n",
    "                for cls in combinations(CLS, 2):\n",
    "                    sub0 = dataSet[dataSet[r] == cls[0]]\n",
    "                    sub1 = dataSet[dataSet[r] == cls[1]]\n",
    "                    pvalue = stats.ttest_ind(\n",
    "                        sub0[tda], sub1[tda], equal_var=False)[1]\n",
    "                    beautyP = pvalue if pvalue < 0.001 else round(pvalue, 4)\n",
    "                    # beautyP = '<0.001' if pvalue < 0.001 else round(pvalue, 4)\n",
    "                    tableDict[r+'-%s-%s-p' % (cls[0], cls[1])] = beautyP\n",
    "                    genDict[r+'-%s-%s-p' %\n",
    "                            (cls[0], cls[1])] = tableDict[r+'-%s-%s-p' % (cls[0], cls[1])]\n",
    "                if general:\n",
    "                    l.append(genDict)\n",
    "                else:\n",
    "                    l.append(tableDict)\n",
    "        TtestDF = pd.concat([TtestDF, (pd.DataFrame(l))], axis=1)\n",
    "    return TtestDF\n",
    "    \n",
    "def kfold_general(DF,logInfo=False)->pd.DataFrame:\n",
    "    '''\n",
    "    description: 从多折交叉验证的结果中计算交叉验证的方差和均值, \n",
    "                 并且与最好的模型进行t检验, 看模型是否更好\n",
    "    eg:\n",
    "        kfoldGeneralDF,kfoldTtestDF = wzyFunc.me.kfold_general(DF)\n",
    "    or:\n",
    "\n",
    "    param {dict} DF: <- wzyFunc.machineLearning.rf_kfold(xDF,yDF), 传入表示保存结果\n",
    "                        同时可以将多个结果竖着concat起来, 一并计算, 并且与最佳模型比较统计学差异\n",
    "    param {dict} logInfo: <- wzyFunc.dataPrep.make_logInfo(), 传入表示保存结果\n",
    "    return  resultTab 多折交叉验证的PRF1的mean(std)\n",
    "            ttestResultDF ttest结果\n",
    "    '''\n",
    "    resultTab=pd.DataFrame()\n",
    "    modelList=pd.DataFrame()\n",
    "    bestModel={'model':'','AUC':0}\n",
    "    fileList=DF['model'].unique()\n",
    "    for f in fileList:\n",
    "        model = DF[DF['model']==f]\n",
    "        if model['AUC'].mean()>bestModel['AUC']: # 保存AUC最好的模型\n",
    "            bestModel['model'] = f\n",
    "            bestModel['AUC'] = model['AUC'].mean()\n",
    "        # 保存包含数据的列名\n",
    "        cols = list(model.select_dtypes(np.number).columns)\n",
    "        for col in cols:\n",
    "            model[col+'(std)'] = str(np.round(model[col].mean(),3)) + '±' + str(np.round(model[col].std(),2))\n",
    "        resultTab = pd.concat([resultTab,model.loc['2','model':]],axis=1,ignore_index=True)\n",
    "        # 保存所有prf1DF\n",
    "        modelList = pd.concat([modelList,model],axis=0)\n",
    "    ttestResultDF = cal_ttest_result(modelList,tcol=['model'],trow=cols,CLS=bestModel['model'])\n",
    "    # if bool(logInfo):\n",
    "    #     dp.save_csv(resultTab,logInfo,suffix='kfoldGeneral')\n",
    "    #     dp.save_csv(ttestResultDF,logInfo,suffix='kfoldTtest')\n",
    "    return resultTab.T,ttestResultDF"
   ]
  },
  {
   "cell_type": "code",
   "execution_count": 529,
   "metadata": {},
   "outputs": [],
   "source": [
    "ytestList=[];yprobList=[];label=[]\n",
    "model = {'HAN':{'name':'HAN','color':'#FF6B6B'},\n",
    "         'HGT':{'name':'HGT','color':'#EAC100'},\n",
    "         'PGCN':{'name':'PGCN','color':'#36AE7C'},\n",
    "         'RGCN':{'name':'RGCN','color':'#6FB2D2'},\n",
    "         'LUPI_RGCN':{'name':'LUPI','color':'#533E85'},\n",
    "         'ML':{'name':'MGREL','color':'#187498'}}\n",
    "rc=pd.DataFrame()\n",
    "for k,v in model.items():\n",
    "    r = pd.read_csv('result/metrics/{}_predictions_ratio1.csv'.format(k,k),index_col=0)\n",
    "    r.rename(columns={'F1':'F1-Score','A':'Accuracy','R(Sen)(TPR)':'Recall','Spec(TNR)':'Specificity','P(PPV)':'Precision'},inplace=True)\n",
    "    r['model'] = v['name']\n",
    "    rc = pd.concat([rc,r],axis=0)  \n",
    "\n",
    "rc.drop(['Avg','Std','Overall'],axis=0,inplace=True)\n",
    "rc = pd.concat([rc[rc.columns.difference(['model'])].astype(float).loc[:,:'Specificity'],rc.model],axis=1)"
   ]
  },
  {
   "cell_type": "code",
   "execution_count": 530,
   "metadata": {},
   "outputs": [
    {
     "name": "stderr",
     "output_type": "stream",
     "text": [
      "<ipython-input-528-c73acc18016c>:105: SettingWithCopyWarning: \n",
      "A value is trying to be set on a copy of a slice from a DataFrame.\n",
      "Try using .loc[row_indexer,col_indexer] = value instead\n",
      "\n",
      "See the caveats in the documentation: https://pandas.pydata.org/pandas-docs/stable/user_guide/indexing.html#returning-a-view-versus-a-copy\n",
      "  model[col+'(std)'] = str(np.round(model[col].mean(),3)) + '±' + str(np.round(model[col].std(),2))\n"
     ]
    }
   ],
   "source": [
    "kfoldGeneralDF,kfoldTtestDF = kfold_general(rc)"
   ]
  },
  {
   "cell_type": "code",
   "execution_count": 532,
   "metadata": {},
   "outputs": [],
   "source": [
    "kfoldTtestDF.to_csv('result/metrics/statistics_model_compare.csv')"
   ]
  },
  {
   "cell_type": "code",
   "execution_count": 526,
   "metadata": {},
   "outputs": [
    {
     "data": {
      "text/html": [
       "<div>\n",
       "<style scoped>\n",
       "    .dataframe tbody tr th:only-of-type {\n",
       "        vertical-align: middle;\n",
       "    }\n",
       "\n",
       "    .dataframe tbody tr th {\n",
       "        vertical-align: top;\n",
       "    }\n",
       "\n",
       "    .dataframe thead th {\n",
       "        text-align: right;\n",
       "    }\n",
       "</style>\n",
       "<table border=\"1\" class=\"dataframe\">\n",
       "  <thead>\n",
       "    <tr style=\"text-align: right;\">\n",
       "      <th></th>\n",
       "      <th>model</th>\n",
       "      <th>AUC(std)</th>\n",
       "      <th>AUPR(std)</th>\n",
       "      <th>Accuracy(std)</th>\n",
       "      <th>F1-Score(std)</th>\n",
       "      <th>Precision(std)</th>\n",
       "      <th>Recall(std)</th>\n",
       "      <th>Specificity(std)</th>\n",
       "    </tr>\n",
       "  </thead>\n",
       "  <tbody>\n",
       "    <tr>\n",
       "      <th>0</th>\n",
       "      <td>HAN</td>\n",
       "      <td>0.77±0.0</td>\n",
       "      <td>0.774±0.0</td>\n",
       "      <td>0.7±0.0</td>\n",
       "      <td>0.75±0.0</td>\n",
       "      <td>0.642±0.0</td>\n",
       "      <td>0.9±0.01</td>\n",
       "      <td>0.499±0.01</td>\n",
       "    </tr>\n",
       "    <tr>\n",
       "      <th>1</th>\n",
       "      <td>HGT</td>\n",
       "      <td>0.889±0.0</td>\n",
       "      <td>0.908±0.0</td>\n",
       "      <td>0.819±0.0</td>\n",
       "      <td>0.813±0.0</td>\n",
       "      <td>0.844±0.01</td>\n",
       "      <td>0.785±0.01</td>\n",
       "      <td>0.854±0.01</td>\n",
       "    </tr>\n",
       "    <tr>\n",
       "      <th>2</th>\n",
       "      <td>PGCN</td>\n",
       "      <td>0.895±0.0</td>\n",
       "      <td>0.909±0.0</td>\n",
       "      <td>0.841±0.0</td>\n",
       "      <td>0.833±0.0</td>\n",
       "      <td>0.874±0.01</td>\n",
       "      <td>0.797±0.01</td>\n",
       "      <td>0.885±0.01</td>\n",
       "    </tr>\n",
       "    <tr>\n",
       "      <th>3</th>\n",
       "      <td>RGCN</td>\n",
       "      <td>0.89±0.0</td>\n",
       "      <td>0.889±0.0</td>\n",
       "      <td>0.818±0.01</td>\n",
       "      <td>0.808±0.0</td>\n",
       "      <td>0.86±0.04</td>\n",
       "      <td>0.765±0.04</td>\n",
       "      <td>0.87±0.07</td>\n",
       "    </tr>\n",
       "    <tr>\n",
       "      <th>4</th>\n",
       "      <td>LUPI</td>\n",
       "      <td>0.552±0.02</td>\n",
       "      <td>0.511±0.02</td>\n",
       "      <td>0.594±0.02</td>\n",
       "      <td>0.701±0.01</td>\n",
       "      <td>0.555±0.01</td>\n",
       "      <td>0.952±0.02</td>\n",
       "      <td>0.235±0.05</td>\n",
       "    </tr>\n",
       "    <tr>\n",
       "      <th>5</th>\n",
       "      <td>MGREL</td>\n",
       "      <td>0.924±0.0</td>\n",
       "      <td>0.934±0.0</td>\n",
       "      <td>0.863±0.0</td>\n",
       "      <td>0.859±0.0</td>\n",
       "      <td>0.889±0.01</td>\n",
       "      <td>0.831±0.01</td>\n",
       "      <td>0.896±0.01</td>\n",
       "    </tr>\n",
       "  </tbody>\n",
       "</table>\n",
       "</div>"
      ],
      "text/plain": [
       "   model    AUC(std)   AUPR(std) Accuracy(std) F1-Score(std) Precision(std)  \\\n",
       "0    HAN    0.77±0.0   0.774±0.0       0.7±0.0      0.75±0.0      0.642±0.0   \n",
       "1    HGT   0.889±0.0   0.908±0.0     0.819±0.0     0.813±0.0     0.844±0.01   \n",
       "2   PGCN   0.895±0.0   0.909±0.0     0.841±0.0     0.833±0.0     0.874±0.01   \n",
       "3   RGCN    0.89±0.0   0.889±0.0    0.818±0.01     0.808±0.0      0.86±0.04   \n",
       "4   LUPI  0.552±0.02  0.511±0.02    0.594±0.02    0.701±0.01     0.555±0.01   \n",
       "5  MGREL   0.924±0.0   0.934±0.0     0.863±0.0     0.859±0.0     0.889±0.01   \n",
       "\n",
       "  Recall(std) Specificity(std)  \n",
       "0    0.9±0.01       0.499±0.01  \n",
       "1  0.785±0.01       0.854±0.01  \n",
       "2  0.797±0.01       0.885±0.01  \n",
       "3  0.765±0.04        0.87±0.07  \n",
       "4  0.952±0.02       0.235±0.05  \n",
       "5  0.831±0.01       0.896±0.01  "
      ]
     },
     "execution_count": 526,
     "metadata": {},
     "output_type": "execute_result"
    }
   ],
   "source": [
    "kfoldGeneralDF"
   ]
  }
 ],
 "metadata": {
  "kernelspec": {
   "display_name": "Python 3.8.8 ('Graph')",
   "language": "python",
   "name": "python3"
  },
  "language_info": {
   "codemirror_mode": {
    "name": "ipython",
    "version": 3
   },
   "file_extension": ".py",
   "mimetype": "text/x-python",
   "name": "python",
   "nbconvert_exporter": "python",
   "pygments_lexer": "ipython3",
   "version": "3.8.8"
  },
  "orig_nbformat": 4,
  "vscode": {
   "interpreter": {
    "hash": "6812266556c7102a7b1eb3d3fb1504861b226aa32302eefaf2ea4e0dd58c5266"
   }
  }
 },
 "nbformat": 4,
 "nbformat_minor": 2
}
